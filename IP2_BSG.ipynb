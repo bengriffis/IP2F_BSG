{
 "cells": [
  {
   "cell_type": "markdown",
   "id": "bf5b9e8d",
   "metadata": {},
   "source": [
    "# Benjamin Griffis\n",
    "## Individual Project 2\n",
    "## Version 1\n",
    "## DS-160-01"
   ]
  },
  {
   "cell_type": "code",
   "execution_count": 1,
   "id": "061c900f",
   "metadata": {},
   "outputs": [],
   "source": [
    "import numpy as np"
   ]
  },
  {
   "cell_type": "code",
   "execution_count": 2,
   "id": "e54a5a5f",
   "metadata": {},
   "outputs": [],
   "source": [
    "list=[10,20,30,40]\n",
    "array1=np.array(list)\n",
    "array1.resize(2,2)"
   ]
  },
  {
   "cell_type": "code",
   "execution_count": 3,
   "id": "2fbc5866",
   "metadata": {},
   "outputs": [
    {
     "data": {
      "text/plain": [
       "array([[10, 20],\n",
       "       [30, 40]])"
      ]
     },
     "execution_count": 3,
     "metadata": {},
     "output_type": "execute_result"
    }
   ],
   "source": [
    "array1"
   ]
  },
  {
   "cell_type": "code",
   "execution_count": 22,
   "id": "bfb04e42",
   "metadata": {},
   "outputs": [
    {
     "data": {
      "text/plain": [
       "array([[ 100,  400],\n",
       "       [ 900, 1600]])"
      ]
     },
     "execution_count": 22,
     "metadata": {},
     "output_type": "execute_result"
    }
   ],
   "source": [
    "# Square every element of array\n",
    "array1**2"
   ]
  },
  {
   "cell_type": "code",
   "execution_count": 7,
   "id": "cc746065",
   "metadata": {},
   "outputs": [
    {
     "data": {
      "text/plain": [
       "array([[110, 120],\n",
       "       [130, 140]])"
      ]
     },
     "execution_count": 7,
     "metadata": {},
     "output_type": "execute_result"
    }
   ],
   "source": [
    "# Adding 100 to every element of array\n",
    "array1+100"
   ]
  },
  {
   "cell_type": "code",
   "execution_count": 8,
   "id": "9bbaeb07",
   "metadata": {},
   "outputs": [
    {
     "data": {
      "text/plain": [
       "array([[ 50, 100],\n",
       "       [150, 200]])"
      ]
     },
     "execution_count": 8,
     "metadata": {},
     "output_type": "execute_result"
    }
   ],
   "source": [
    "# Multiple every element in array by 5\n",
    "array1*5"
   ]
  },
  {
   "cell_type": "code",
   "execution_count": 23,
   "id": "f039b699",
   "metadata": {},
   "outputs": [
    {
     "data": {
      "text/plain": [
       "array([[3.16227766, 4.47213595],\n",
       "       [5.47722558, 6.32455532]])"
      ]
     },
     "execution_count": 23,
     "metadata": {},
     "output_type": "execute_result"
    }
   ],
   "source": [
    "# Square root of each element in array\n",
    "np.sqrt(array1)"
   ]
  },
  {
   "cell_type": "code",
   "execution_count": 24,
   "id": "c8f62dcb",
   "metadata": {},
   "outputs": [
    {
     "data": {
      "text/plain": [
       "array([[ 3,  6,  9],\n",
       "       [12, 15, 18],\n",
       "       [21, 24, 27]])"
      ]
     },
     "execution_count": 24,
     "metadata": {},
     "output_type": "execute_result"
    }
   ],
   "source": [
    "# 3x3 array from 3-27 counting by 3's\n",
    "array2=np.arange(3,28,3)\n",
    "array2.resize(3,3)\n",
    "array2"
   ]
  },
  {
   "cell_type": "code",
   "execution_count": 26,
   "id": "c04d4bf3",
   "metadata": {},
   "outputs": [
    {
     "data": {
      "text/plain": [
       "array([[10.  , 11.25, 12.5 ],\n",
       "       [13.75, 15.  , 16.25],\n",
       "       [17.5 , 18.75, 20.  ]])"
      ]
     },
     "execution_count": 26,
     "metadata": {},
     "output_type": "execute_result"
    }
   ],
   "source": [
    "# 3x3 array with 9 elements evenly spaced betwen 10 - 20\n",
    "array3=np.linspace(10,20,9, True)\n",
    "array3.resize(3,3)\n",
    "array3"
   ]
  },
  {
   "cell_type": "code",
   "execution_count": 18,
   "id": "4b6dd31e",
   "metadata": {},
   "outputs": [
    {
     "data": {
      "text/plain": [
       "array([[ 30. ,  67.5, 112.5],\n",
       "       [165. , 225. , 292.5],\n",
       "       [367.5, 450. , 540. ]])"
      ]
     },
     "execution_count": 18,
     "metadata": {},
     "output_type": "execute_result"
    }
   ],
   "source": [
    "array4=array2*array3\n",
    "array4"
   ]
  },
  {
   "cell_type": "code",
   "execution_count": 19,
   "id": "ac626aa2",
   "metadata": {},
   "outputs": [],
   "source": [
    "process1=np.load('process1.npy')\n",
    "process2=np.load('process2.npy')\n",
    "process3=np.load('process3.npy')\n",
    "process4=np.load('process4.npy')\n",
    "process5=np.load('process5.npy')"
   ]
  },
  {
   "cell_type": "code",
   "execution_count": 20,
   "id": "0145209c",
   "metadata": {},
   "outputs": [
    {
     "name": "stdout",
     "output_type": "stream",
     "text": [
      "[[52 12 81  0 58]]\n",
      "[[96  4 61 16 43]]\n",
      "[[38 96 45 17 58]]\n",
      "[[97 21 22 25  6]]\n",
      "[[77  6 19  2 74]]\n"
     ]
    }
   ],
   "source": [
    "print(process1)\n",
    "print(process2)\n",
    "print(process3)\n",
    "print(process4)\n",
    "print(process5)"
   ]
  },
  {
   "cell_type": "code",
   "execution_count": 30,
   "id": "2d808de0",
   "metadata": {},
   "outputs": [
    {
     "name": "stdout",
     "output_type": "stream",
     "text": [
      "[[52 12 81  0 58]\n",
      " [96  4 61 16 43]\n",
      " [38 96 45 17 58]\n",
      " [97 21 22 25  6]\n",
      " [77  6 19  2 74]]\n"
     ]
    }
   ],
   "source": [
    "Unified_Dataset=np.vstack((process1,process2,process3,process4,process5))\n",
    "print(Unified_Dataset)"
   ]
  },
  {
   "cell_type": "code",
   "execution_count": 32,
   "id": "bfb3bf21",
   "metadata": {},
   "outputs": [
    {
     "name": "stdout",
     "output_type": "stream",
     "text": [
      "The means for each of the columns data are: [72.  27.8 45.6 12.  47.8]\n"
     ]
    }
   ],
   "source": [
    "print(\"The means for each of the columns data are:\",np.mean(Unified_Dataset,axis=0))"
   ]
  },
  {
   "cell_type": "code",
   "execution_count": null,
   "id": "acf1f072",
   "metadata": {},
   "outputs": [],
   "source": []
  }
 ],
 "metadata": {
  "kernelspec": {
   "display_name": "Python 3 (ipykernel)",
   "language": "python",
   "name": "python3"
  },
  "language_info": {
   "codemirror_mode": {
    "name": "ipython",
    "version": 3
   },
   "file_extension": ".py",
   "mimetype": "text/x-python",
   "name": "python",
   "nbconvert_exporter": "python",
   "pygments_lexer": "ipython3",
   "version": "3.9.12"
  }
 },
 "nbformat": 4,
 "nbformat_minor": 5
}
